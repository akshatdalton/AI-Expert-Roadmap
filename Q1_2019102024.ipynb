{
  "nbformat": 4,
  "nbformat_minor": 0,
  "metadata": {
    "colab": {
      "name": "Q1 2019102024.ipynb",
      "provenance": [],
      "mount_file_id": "1ZArpIoevIBc5tdNhTafyzErNeF0xrgAo",
      "authorship_tag": "ABX9TyOXKO7+bFgtxBinVzcejfDA",
      "include_colab_link": true
    },
    "kernelspec": {
      "name": "python3",
      "display_name": "Python 3"
    },
    "language_info": {
      "name": "python"
    }
  },
  "cells": [
    {
      "cell_type": "markdown",
      "metadata": {
        "id": "view-in-github",
        "colab_type": "text"
      },
      "source": [
        "<a href=\"https://colab.research.google.com/github/akshatdalton/AI-Expert-Roadmap/blob/main/Q1_2019102024.ipynb\" target=\"_parent\"><img src=\"https://colab.research.google.com/assets/colab-badge.svg\" alt=\"Open In Colab\"/></a>"
      ]
    },
    {
      "cell_type": "code",
      "metadata": {
        "colab": {
          "base_uri": "https://localhost:8080/"
        },
        "id": "ozC706WBKKP3",
        "outputId": "47eb40c9-5052-4cdf-ce20-adb5e58ce7e2"
      },
      "source": [
        "%cd seam-carving-akshatdalton/"
      ],
      "execution_count": null,
      "outputs": [
        {
          "output_type": "stream",
          "name": "stdout",
          "text": [
            "/content/seam-carving-akshatdalton\n"
          ]
        }
      ]
    },
    {
      "cell_type": "code",
      "metadata": {
        "colab": {
          "base_uri": "https://localhost:8080/"
        },
        "id": "MZBLhGXMKPNH",
        "outputId": "2e4bab30-c8cb-445e-87ef-547eac00d69b"
      },
      "source": [
        "!ls"
      ],
      "execution_count": null,
      "outputs": [
        {
          "output_type": "stream",
          "name": "stdout",
          "text": [
            "images\tREADME.md  src\n"
          ]
        }
      ]
    },
    {
      "cell_type": "code",
      "metadata": {
        "id": "B1I9XgKhZ-Tl"
      },
      "source": [
        "import numpy as np\n",
        "import cv2\n",
        "import matplotlib.pyplot as plt"
      ],
      "execution_count": 80,
      "outputs": []
    },
    {
      "cell_type": "code",
      "metadata": {
        "id": "d3TKyUit8L57"
      },
      "source": [
        "bangalore_dancers = cv2.cvtColor(cv2.imread(\"./images/bangalore-dancers.jpg\").copy(), cv2.COLOR_BGR2RGB)\n",
        "cat = cv2.cvtColor(cv2.imread(\"./images/cat.jpg\").copy(), cv2.COLOR_BGR2RGB)\n",
        "chhota_bheem = cv2.cvtColor(cv2.imread(\"./images/chhota-bheem.jpg\").copy(), cv2.COLOR_BGR2RGB)\n",
        "iiit = cv2.cvtColor(cv2.imread(\"./images/iiit.jpg\").copy(), cv2.COLOR_BGR2RGB)\n",
        "# maldives = cv2.cvtColor(cv2.imread(\"./images/maldives.jpg\").copy(), cv2.COLOR_BGR2RGB)\n",
        "path = cv2.cvtColor(cv2.imread(\"./images/path.jpg\").copy(), cv2.COLOR_BGR2RGB)\n",
        "shadow = cv2.cvtColor(cv2.imread(\"./images/shadow.jpg\").copy(), cv2.COLOR_BGR2RGB)\n",
        "tanjore = cv2.cvtColor(cv2.imread(\"./images/tanjore.jpg\").copy(), cv2.COLOR_BGR2RGB)\n",
        "trafalgar_square = cv2.cvtColor(cv2.imread(\"./images/trafalgar-square.jpg\").copy(), cv2.COLOR_BGR2RGB)\n",
        "uluru = cv2.cvtColor(cv2.imread(\"./images/uluru.jpg\").copy(), cv2.COLOR_BGR2RGB)"
      ],
      "execution_count": 81,
      "outputs": []
    },
    {
      "cell_type": "code",
      "metadata": {
        "id": "scSuw2JzAKHd"
      },
      "source": [
        "def generate_energy_map(img):\n",
        "    energy_map = np.zeros((img.shape[0], img.shape[1]), dtype=\"float\")\n",
        "\n",
        "    for row in range(img.shape[0]):\n",
        "        for col in range(img.shape[1]):\n",
        "            energy = np.zeros(img.shape[2], dtype=np.float64)\n",
        "\n",
        "            for channel in range(img.shape[2]):\n",
        "                if row > 0:\n",
        "                    energy[channel] += np.square(img[row][col][channel] - img[row - 1][col][channel])\n",
        "                if row + 1 < img.shape[0]:\n",
        "                    energy[channel] += np.square(img[row][col][channel] - img[row + 1][col][channel])\n",
        "                if col > 0:\n",
        "                    energy[channel] += np.square(img[row][col][channel] - img[row][col - 1][channel])\n",
        "                if col + 1 < img.shape[1]:\n",
        "                    energy[channel] += np.square(img[row][col][channel] - img[row][col + 1][channel])\n",
        "\n",
        "            energy_map[row][col] += np.sqrt(np.sum(energy))\n",
        "\n",
        "    return energy_map"
      ],
      "execution_count": 82,
      "outputs": []
    },
    {
      "cell_type": "code",
      "metadata": {
        "id": "VKfucBsJAOdI"
      },
      "source": [
        "def remove_seam(img):\n",
        "    result = np.empty(shape=(img.shape[0], img.shape[1] - 1, img.shape[2]), dtype=\"int\")\n",
        "    energy_map = generate_energy_map(img)\n",
        "    dp = np.empty((energy_map.shape[0], energy_map.shape[1]), dtype=\"float\")\n",
        "    dp[0] = energy_map[0]\n",
        "\n",
        "    for row in range(1, energy_map.shape[0]):\n",
        "        for col in range(energy_map.shape[1]):\n",
        "            dp[row][col] = energy_map[row][col] + energy_map[row - 1][col]\n",
        "            if col > 0:\n",
        "                dp[row][col] = min(dp[row][col], energy_map[row][col] + energy_map[row - 1][col - 1])\n",
        "            if col + 1 < energy_map.shape[1]:\n",
        "                dp[row][col] = min(dp[row][col], energy_map[row][col] + energy_map[row - 1][col + 1])\n",
        "\n",
        "    last_index = dp[-1].argmin()\n",
        "    for idx in range(dp.shape[0] - 1, -1, -1):\n",
        "        current_min = dp[idx][last_index]\n",
        "        delete_index = last_index\n",
        "\n",
        "        if last_index > 0 and dp[idx][last_index - 1] < current_min:\n",
        "            current_min = dp[idx][last_index - 1]\n",
        "            delete_index = last_index - 1\n",
        "        \n",
        "        if last_index + 1 < dp.shape[1] and dp[idx][last_index + 1] < current_min:\n",
        "            current_min = dp[idx][last_index + 1]\n",
        "            delete_index = last_index + 1\n",
        "\n",
        "        result[idx] = np.delete(img[idx], delete_index, axis=0)\n",
        "        last_index = delete_index\n",
        "\n",
        "    return result"
      ],
      "execution_count": 83,
      "outputs": []
    },
    {
      "cell_type": "code",
      "metadata": {
        "id": "3mZGn57qAV7O"
      },
      "source": [
        "import time\n",
        "\n",
        "def content_aware_image_resizing(img, take_transpose=True):\n",
        "    start = time.time()\n",
        "    img = img.astype(\"int\")\n",
        "    shrinked_img = img\n",
        "\n",
        "    plt.subplot(1, 4, 1)\n",
        "    plt.imshow(img)\n",
        "    plt.title(\"Original Image\")\n",
        "    plt.figure()\n",
        "    plt.show()\n",
        "    \n",
        "    if take_transpose:\n",
        "        shrinked_img = cv2.transpose(shrinked_img)\n",
        "\n",
        "    for _ in range(int(0.2 * img.shape[1])):\n",
        "        # 20% shrinkage\n",
        "        shrinked_img = remove_seam(shrinked_img)\n",
        "    \n",
        "    if take_transpose:\n",
        "        shrinked_img = cv2.transpose(shrinked_img)\n",
        "    \n",
        "    print(\"Shrinked Image dimension = \", shrinked_img.shape)\n",
        "    print(\"Execution time for 20% = \", time.time() - start)\n",
        "    \n",
        "    plt.subplot(1, 4, 2)\n",
        "    plt.imshow(shrinked_img)\n",
        "    plt.title(\"20% shrinkage\")\n",
        "    plt.figure()\n",
        "    plt.show()\n",
        "    \n",
        "    if take_transpose:\n",
        "        shrinked_img = cv2.transpose(shrinked_img)\n",
        "    \n",
        "    for _ in range(int(0.2 * img.shape[1])):\n",
        "        # Another 20% shrinkage => 40% shrinkage\n",
        "        shrinked_img = remove_seam(shrinked_img)\n",
        "\n",
        "    if take_transpose:\n",
        "        shrinked_img = cv2.transpose(shrinked_img)\n",
        "    \n",
        "    print(\"Shrinked Image dimension = \", shrinked_img.shape)\n",
        "    print(\"Execution time for 40% = \", time.time() - start)\n",
        "    \n",
        "    plt.subplot(1, 4, 3)\n",
        "    plt.imshow(shrinked_img)\n",
        "    plt.title(\"40% shrinkage\")\n",
        "    plt.figure()\n",
        "    plt.show()\n",
        "    \n",
        "    if take_transpose:\n",
        "        shrinked_img = cv2.transpose(shrinked_img)\n",
        "    \n",
        "    for _ in range(int(0.2 * img.shape[1])):\n",
        "        # Another 20% shrinkage => 60% shrinkage\n",
        "        shrinked_img = remove_seam(shrinked_img)\n",
        "    \n",
        "    if take_transpose:\n",
        "        shrinked_img = cv2.transpose(shrinked_img)\n",
        "    \n",
        "    print(\"Shrinked Image dimension = \", shrinked_img.shape)\n",
        "    print(\"Execution time for 60% = \", time.time() - start, \"\\n\")\n",
        "\n",
        "    plt.subplot(1, 4, 4)\n",
        "    plt.imshow(shrinked_img)\n",
        "    plt.title(\"60% shrinkage\")\n",
        "    plt.figure()\n",
        "    plt.show()"
      ],
      "execution_count": 84,
      "outputs": []
    },
    {
      "cell_type": "code",
      "metadata": {
        "colab": {
          "base_uri": "https://localhost:8080/"
        },
        "id": "ptr127ZbAbHV",
        "outputId": "43d51327-6d96-4d74-d38e-4979ce759bb4"
      },
      "source": [
        "image_list = [bangalore_dancers, cat, iiit, shadow, trafalgar_square, uluru, tanjore]\n",
        "\n",
        "for image in image_list:\n",
        "    content_aware_image_resizing(image)"
      ],
      "execution_count": null,
      "outputs": [
        {
          "output_type": "stream",
          "name": "stdout",
          "text": [
            "(378, 504, 3)\n",
            "(150, 150, 3)\n",
            "(1200, 1920, 3)\n",
            "(369, 880, 3)\n",
            "(333, 500, 3)\n",
            "(500, 770, 3)\n",
            "(319, 359, 3)\n",
            "(378, 504, 3)\n"
          ]
        }
      ]
    },
    {
      "cell_type": "code",
      "metadata": {
        "id": "CKCBm1h3KkKN"
      },
      "source": [
        ""
      ],
      "execution_count": null,
      "outputs": []
    }
  ]
}